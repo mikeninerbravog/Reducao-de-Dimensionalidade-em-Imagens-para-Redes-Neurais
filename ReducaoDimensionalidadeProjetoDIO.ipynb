{
  "nbformat": 4,
  "nbformat_minor": 0,
  "metadata": {
    "colab": {
      "provenance": [],
      "mount_file_id": "130DLI4cEOebO04xnLo25A2_MDjS-Ho5v",
      "authorship_tag": "ABX9TyPFKkp6U2U4ta/NKaIzU+ff",
      "include_colab_link": true
    },
    "kernelspec": {
      "name": "python3",
      "display_name": "Python 3"
    },
    "language_info": {
      "name": "python"
    }
  },
  "cells": [
    {
      "cell_type": "markdown",
      "metadata": {
        "id": "view-in-github",
        "colab_type": "text"
      },
      "source": [
        "<a href=\"https://colab.research.google.com/github/mikeninerbravog/Reducao-de-Dimensionalidade-em-Imagens-para-Redes-Neurais/blob/master/ReducaoDimensionalidadeProjetoDIO.ipynb\" target=\"_parent\"><img src=\"https://colab.research.google.com/assets/colab-badge.svg\" alt=\"Open In Colab\"/></a>"
      ]
    },
    {
      "cell_type": "code",
      "execution_count": 14,
      "metadata": {
        "id": "nar4lRQ16czN"
      },
      "outputs": [],
      "source": [
        "\"\"\"\n",
        "pt-BR\n",
        "Aluno: Marcello S Bastos.\n",
        "Projeto/Prova de Conceito (POC) para Bootcamp DIO \"Machine Learning Practitioner\" - Fevereiro de 2025\n",
        "Prova para Redução de Dimensionalidade em Imagens para Redes Neurais.\n",
        "\"\"\"\n",
        "#Recursos\n",
        "from PIL import Image"
      ]
    },
    {
      "cell_type": "code",
      "source": [
        "# Carregar a imagem matriz (principal)\n",
        "image = Image.open('/content/lenna2.jpg')  #Use o seu caminho e nome de arquivo\n",
        "pixels = image.load()"
      ],
      "metadata": {
        "id": "RjZGiGMa8EMR"
      },
      "execution_count": 15,
      "outputs": []
    },
    {
      "cell_type": "code",
      "source": [
        "# Obtendo informações para processamento\n",
        "width, height = image.size\n",
        "\n",
        "# Conversão\n",
        "for x in range(width):\n",
        "    for y in range(height):\n",
        "        r, g, b = pixels[x, y]\n",
        "        # Fórmula em escala de cinza (cálculo padrão de luminância)\n",
        "        gray = int(0.299 * r + 0.587 * g + 0.114 * b)\n",
        "        pixels[x, y] = (gray, gray, gray)\n"
      ],
      "metadata": {
        "id": "MuUL23Kr-dqF"
      },
      "execution_count": 16,
      "outputs": []
    },
    {
      "cell_type": "code",
      "source": [
        "# Salvando a imagem em escala de cinza\n",
        "image.save('/content/escaladecinza.jpg')"
      ],
      "metadata": {
        "id": "Rmx1W5Nc-fRj"
      },
      "execution_count": 17,
      "outputs": []
    },
    {
      "cell_type": "code",
      "source": [
        "# Converta a escala de cinza em preto e branco puro (binário -- binarização)\n",
        "threshold = 128\n",
        "for x in range(width):\n",
        "    for y in range(height):\n",
        "        r, g, b = pixels[x, y]\n",
        "        bw = 255 if r > threshold else 0\n",
        "        pixels[x, y] = (bw, bw, bw)"
      ],
      "metadata": {
        "id": "D4WTyHlf-zRc"
      },
      "execution_count": 18,
      "outputs": []
    },
    {
      "cell_type": "code",
      "source": [
        "# Salvando a imagem na versão preto & branco\n",
        "image.save('/content/PB.jpg')"
      ],
      "metadata": {
        "id": "XCVPP3R4-1nP"
      },
      "execution_count": 19,
      "outputs": []
    }
  ]
}